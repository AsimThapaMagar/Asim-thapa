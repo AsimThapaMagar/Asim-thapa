{
 "cells": [
  {
   "cell_type": "markdown",
   "metadata": {},
   "source": [
    "## Error handeling"
   ]
  },
  {
   "cell_type": "markdown",
   "metadata": {},
   "source": [
    "##  Division with Error Handling: Write a program that takes two numbers as input and divides the first number by the second.\n",
    " ○ Use try and except to handle the division by zero error."
   ]
  },
  {
   "cell_type": "code",
   "execution_count": null,
   "metadata": {},
   "outputs": [],
   "source": [
    "# Take two numbers as input\n",
    "try:\n",
    "    num1 = float(input(\"Enter the first number: \"))\n",
    "    num2 = float(input(\"Enter the second number: \"))\n",
    "    \n",
    "    # Attempt to divide the first number by the second\n",
    "    result = num1 / num2\n",
    "    print(f\"The result of division is: {result}\")\n",
    "\n",
    "# Handle the case where division by zero occurs\n",
    "except ZeroDivisionError:\n",
    "    print(\"Error: Cannot divide by zero.\")\n",
    "\n",
    "# Handle invalid input (non-numeric values)\n",
    "except ValueError:\n",
    "    print(\"Error: Please enter valid numeric values.\")\n"
   ]
  },
  {
   "cell_type": "markdown",
   "metadata": {},
   "source": [
    "## Integer Input Validation: Create a program that asks the user to input an integer.\n",
    " ○ Use try, except, and else to handle invalid input.\n",
    " Example:\n",
    " ○ Input: abc\n",
    " ○ Output: \"Invalid input, please enter an integer.\""
   ]
  },
  {
   "cell_type": "code",
   "execution_count": null,
   "metadata": {},
   "outputs": [],
   "source": [
    "# Ask the user to input an integer\n",
    "try:\n",
    "    user_input = int(input(\"Please enter an integer: \"))\n",
    "except ValueError:\n",
    "    print(\"Invalid input, please enter an integer.\")\n",
    "else:\n",
    "    print(f\"You have entered the integer: {user_input}\")\n"
   ]
  },
  {
   "cell_type": "markdown",
   "metadata": {},
   "source": [
    "##  File Not Found Error Handling: Write a script that:\n",
    " ○ Opens a file named unknown.txt.\n",
    " ○ Handles the FileNotFoundError gracefully and prints an\n",
    " appropriate message"
   ]
  },
  {
   "cell_type": "code",
   "execution_count": null,
   "metadata": {},
   "outputs": [],
   "source": [
    "# Try to open the file 'unknown.txt'\n",
    "try:\n",
    "    with open('unknown.txt', 'r') as file:\n",
    "        content = file.read()\n",
    "        print(content)\n",
    "        \n",
    "# Handle the case where the file is not found\n",
    "except FileNotFoundError:\n",
    "    print(\"Error: The file 'unknown.txt' was not found.\")\n"
   ]
  }
 ],
 "metadata": {
  "language_info": {
   "name": "python"
  }
 },
 "nbformat": 4,
 "nbformat_minor": 2
}
