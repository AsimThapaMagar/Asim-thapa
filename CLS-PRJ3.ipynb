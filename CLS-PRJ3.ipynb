{
 "cells": [
  {
   "cell_type": "markdown",
   "metadata": {},
   "source": [
    "## Factor function:Write a function factorial(n) that returns the factorial of a number using a for loop."
   ]
  },
  {
   "cell_type": "code",
   "execution_count": 1,
   "metadata": {},
   "outputs": [
    {
     "name": "stdout",
     "output_type": "stream",
     "text": [
      "The factorial of 23 is: 25852016738884976640000\n"
     ]
    }
   ],
   "source": [
    "# Define the factorial function\n",
    "def factorial(n):\n",
    "    # Initialize the result as 1 (since factorial of 0 and 1 is 1)\n",
    "    result = 1\n",
    "\n",
    "    # Multiply the numbers from 1 to n to calculate the factorial\n",
    "    for i in range(1, n + 1):\n",
    "        result *= i  # Multiply the result by each number in the range\n",
    "\n",
    "    return result\n",
    "\n",
    "# Input: Get the number from the user\n",
    "num = int(input(\"Enter a number to find its factorial: \"))\n",
    "\n",
    "# Call the factorial function and display the result\n",
    "print(f\"The factorial of {num} is: {factorial(num)}\")\n"
   ]
  },
  {
   "cell_type": "markdown",
   "metadata": {},
   "source": [
    "##  Prime Check Function: Create a function is_prime(n) to check whether a number is prime."
   ]
  },
  {
   "cell_type": "code",
   "execution_count": 3,
   "metadata": {},
   "outputs": [
    {
     "name": "stdout",
     "output_type": "stream",
     "text": [
      "True\n"
     ]
    }
   ],
   "source": [
    "# Define the function to check if a number is prime\n",
    "def is_prime(n):\n",
    "    # Handle edge cases for numbers less than 2\n",
    "    if n <= 1:\n",
    "        return False  # Numbers less than or equal to 1 are not prime\n",
    "    # Check divisibility from 2 to the square root of n\n",
    "    for i in range(2, int(n ** 0.5) + 1):\n",
    "        if n % i == 0:\n",
    "            return False  # n is divisible by i, so it's not prime\n",
    "    return True  # n is prime if no divisors were found\n",
    "\n",
    "# Input: Get the number from the user\n",
    "num = int(input(\"Enter a number to check if it's prime: \"))\n",
    "\n",
    "# Call the is_prime function and display the result\n",
    "print(is_prime(num))\n",
    "\n"
   ]
  },
  {
   "cell_type": "markdown",
   "metadata": {},
   "source": [
    "##  Find Maximum in List:Write a function find_max(lst) to find and return the maximum value in a list."
   ]
  },
  {
   "cell_type": "code",
   "execution_count": null,
   "metadata": {},
   "outputs": [],
   "source": [
    "# Define the function to find the maximum value in a list\n",
    "def find_max(lst):\n",
    "    # Initialize the maximum value as the first element in the list\n",
    "    max_value = lst[0]\n",
    "\n",
    "    # Loop through the list to find the maximum value\n",
    "    for num in lst:\n",
    "        if num > max_value:\n",
    "            max_value = num  # Update the max_value if a larger number is found\n",
    "\n",
    "    return max_value\n",
    "\n",
    "# Input: Get a list of numbers from the user\n",
    "numbers = list(map(int, input(\"Enter a list of numbers separated by spaces: \").split()))\n",
    "\n",
    "# Call the find_max function and display the result\n",
    "print(f\"The maximum value in the list is: {find_max(numbers)}\")\n"
   ]
  },
  {
   "cell_type": "markdown",
   "metadata": {},
   "source": [
    "##  Write a function palindrome_check(string) that returns True if the given string is a palindrome, otherwise False."
   ]
  },
  {
   "cell_type": "code",
   "execution_count": 4,
   "metadata": {},
   "outputs": [
    {
     "name": "stdout",
     "output_type": "stream",
     "text": [
      "True\n"
     ]
    }
   ],
   "source": [
    "# Define the function to check if a string is a palindrome\n",
    "def palindrome_check(string):\n",
    "    # Compare the string with its reverse\n",
    "    return string == string[::-1]\n",
    "\n",
    "# Input: Get the string from the user\n",
    "input_string = input(\"Enter a string to check if it's a palindrome: \")\n",
    "\n",
    "# Call the palindrome_check function and display the result\n",
    "print(palindrome_check(input_string))\n"
   ]
  },
  {
   "cell_type": "markdown",
   "metadata": {},
   "source": [
    "## Write a function sum_of_squares(n) that returns the sum of squares of the first n natural numbers."
   ]
  },
  {
   "cell_type": "code",
   "execution_count": null,
   "metadata": {},
   "outputs": [],
   "source": [
    "# Define the function to calculate the sum of squares of the first n natural numbers\n",
    "def sum_of_squares(n):\n",
    "    # Initialize the sum as 0\n",
    "    total = 0\n",
    "\n",
    "    # Loop through the first n natural numbers and add their squares\n",
    "    for i in range(1, n + 1):\n",
    "        total += i ** 2  # Add the square of each number to the total\n",
    "\n",
    "    return total\n",
    "\n",
    "# Input: Get the number n from the user\n",
    "num = int(input(\"Enter a number to find the sum of squares of the first n natural numbers: \"))\n",
    "\n",
    "# Call the sum_of_squares function and display the result\n",
    "print(f\"The sum of squares of the first {num} natural numbers is: {sum_of_squares(num)}\")\n"
   ]
  },
  {
   "cell_type": "markdown",
   "metadata": {},
   "source": [
    "##  Write a function sum_of_squares(n) that returns the sum of squares of the first n natural numbers."
   ]
  },
  {
   "cell_type": "code",
   "execution_count": null,
   "metadata": {},
   "outputs": [],
   "source": [
    "# Define the function to calculate the sum of squares of the first n natural numbers\n",
    "def sum_of_squares(n):\n",
    "    # Initialize the total sum\n",
    "    total = 0\n",
    "    # Initialize an empty list to hold the squares\n",
    "    squares = []\n",
    "    \n",
    "    # Loop through the first n natural numbers\n",
    "    for i in range(1, n + 1):\n",
    "        square = i ** 2  # Square of the current number\n",
    "        total += square  # Add the square to the total\n",
    "        squares.append(str(square))  # Append the square to the list (as string for formatting)\n",
    "\n",
    "    # Create the formatted output string\n",
    "    result_string = \" + \".join(squares)  # Join the squares with \" + \"\n",
    "    return f\"{result_string} = {total}\"\n",
    "\n",
    "# Input: Get the number n from the user\n",
    "num = int(input(\"Enter a number to find the sum of squares of the first n natural numbers: \"))\n",
    "\n",
    "# Call the sum_of_squares function and display the result\n",
    "print(sum_of_squares(num))\n"
   ]
  }
 ],
 "metadata": {
  "kernelspec": {
   "display_name": "Python 3",
   "language": "python",
   "name": "python3"
  },
  "language_info": {
   "codemirror_mode": {
    "name": "ipython",
    "version": 3
   },
   "file_extension": ".py",
   "mimetype": "text/x-python",
   "name": "python",
   "nbconvert_exporter": "python",
   "pygments_lexer": "ipython3",
   "version": "3.13.0"
  }
 },
 "nbformat": 4,
 "nbformat_minor": 2
}
